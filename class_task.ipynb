{
  "nbformat": 4,
  "nbformat_minor": 0,
  "metadata": {
    "colab": {
      "provenance": [],
      "authorship_tag": "ABX9TyPkBDi+FMtiCPuHAMrR/MBO",
      "include_colab_link": true
    },
    "kernelspec": {
      "name": "python3",
      "display_name": "Python 3"
    },
    "language_info": {
      "name": "python"
    }
  },
  "cells": [
    {
      "cell_type": "markdown",
      "metadata": {
        "id": "view-in-github",
        "colab_type": "text"
      },
      "source": [
        "<a href=\"https://colab.research.google.com/github/Jayakrishna143/python/blob/main/class_task.ipynb\" target=\"_parent\"><img src=\"https://colab.research.google.com/assets/colab-badge.svg\" alt=\"Open In Colab\"/></a>"
      ]
    },
    {
      "cell_type": "code",
      "execution_count": null,
      "metadata": {
        "colab": {
          "base_uri": "https://localhost:8080/"
        },
        "id": "pztT3eQSBsaf",
        "outputId": "dbe6d5d9-f66e-42ea-aea9-ceebfe1e1b3a"
      },
      "outputs": [
        {
          "output_type": "stream",
          "name": "stdout",
          "text": [
            "Enter marks percentage: 35.7\n",
            "Rank: E\n"
          ]
        }
      ],
      "source": [
        "\n",
        "marks = float(input(\"Enter marks percentage: \"))\n",
        "\n",
        "assert 0 <= marks <= 100, \"Marks percentage should be between 0 and 100\"\n",
        "\n",
        "if marks >= 90:\n",
        "  print(\"Rank: A\")\n",
        "elif marks >= 75:\n",
        "  print(\"Rank: B\")\n",
        "elif marks >= 55:\n",
        "  print(\"Rank: C\")\n",
        "elif marks >= 45:\n",
        "  print(\"Rank: D\")\n",
        "elif marks >= 35:\n",
        "  print(\"Rank: E\")\n",
        "else:\n",
        "  print(\"Rank: F\")"
      ]
    },
    {
      "cell_type": "code",
      "source": [
        "num1 = float(input(\"Enter first number: \"))\n",
        "num2 = float(input(\"Enter second number: \"))\n",
        "operator = input(\"Enter operator: \")\n",
        "\n",
        "if operator == '+':\n",
        "  print(num1 + num2)\n",
        "elif operator == '-':\n",
        "  print(num1 - num2)\n",
        "elif operator == '*':\n",
        "  print(num1 * num2)\n",
        "elif operator == '/':\n",
        "  print(num1 / num2)"
      ],
      "metadata": {
        "colab": {
          "base_uri": "https://localhost:8080/"
        },
        "id": "IPOxAAgAD8je",
        "outputId": "4a4a486b-512d-48bf-9c0a-eaa17c11006e"
      },
      "execution_count": null,
      "outputs": [
        {
          "output_type": "stream",
          "name": "stdout",
          "text": [
            "Enter first number: 23.5\n",
            "Enter second number: 24.5\n",
            "Enter operator: +\n",
            "48.0\n"
          ]
        }
      ]
    },
    {
      "cell_type": "code",
      "source": [
        "x = input('please close the door id ac is on ')"
      ],
      "metadata": {
        "id": "1w0klswTRE5_"
      },
      "execution_count": null,
      "outputs": []
    },
    {
      "cell_type": "code",
      "source": [
        "a = input('enter a string')\n",
        "y = input(\"Enter the substring to search for: \")\n",
        "last_occurrence = -1\n",
        "\n",
        "for i in range(len(a) - len(y) + 1):\n",
        "    if a[i:i + len(y)] == y:\n",
        "        last_occurrence = i\n",
        "\n",
        "print(f\"The last occurrence of '{y}' is at index: {last_occurrence}\")"
      ],
      "metadata": {
        "colab": {
          "base_uri": "https://localhost:8080/"
        },
        "id": "RfYDNktTj9gR",
        "outputId": "25ae9870-10ba-4fdc-aac5-14099b0f877b"
      },
      "execution_count": null,
      "outputs": [
        {
          "output_type": "stream",
          "name": "stdout",
          "text": [
            "enter a stringmalyalam\n",
            "Enter the substring to search for: m\n",
            "The last occurrence of 'm' is at index: 7\n"
          ]
        }
      ]
    },
    {
      "cell_type": "code",
      "source": [
        "len(a)"
      ],
      "metadata": {
        "colab": {
          "base_uri": "https://localhost:8080/"
        },
        "id": "xCJPnI5-knMJ",
        "outputId": "71c3532f-1dcb-4de8-c1f1-cde905e7b045"
      },
      "execution_count": null,
      "outputs": [
        {
          "output_type": "execute_result",
          "data": {
            "text/plain": [
              "17"
            ]
          },
          "metadata": {},
          "execution_count": 2
        }
      ]
    },
    {
      "cell_type": "code",
      "source": [
        "a[14]"
      ],
      "metadata": {
        "colab": {
          "base_uri": "https://localhost:8080/",
          "height": 35
        },
        "id": "6sPlPXbsksYH",
        "outputId": "880c775f-7ff2-4c18-a60a-73da80f7ace3"
      },
      "execution_count": null,
      "outputs": [
        {
          "output_type": "execute_result",
          "data": {
            "text/plain": [
              "'d'"
            ],
            "application/vnd.google.colaboratory.intrinsic+json": {
              "type": "string"
            }
          },
          "metadata": {},
          "execution_count": 4
        }
      ]
    },
    {
      "cell_type": "code",
      "source": [
        "sub = int(input(\"Enter num of subjects: \"))\n",
        "marks_list = []\n",
        "tp =0\n",
        "for i in range(sub):\n",
        "  marks =float(input(f\"Enter marks for subject {i+1}: \"))\n",
        "  assert 0 <= marks <= 100, \"Marks should be between 0 and 100\"\n",
        "  tp+=marks\n",
        "  marks_list.append(marks)\n",
        "marks_list.sort()\n",
        "\n",
        "z =marks_list[0]\n",
        "tp = tp/sub\n",
        "\n",
        "if z<35:\n",
        "  print(f\"you've failed in the examinations and seured: {tp}%\")\n",
        "else:\n",
        "  if tp>=80:\n",
        "    print(f\"you've secured distinction with: {tp}%\")\n",
        "  elif tp>=60:\n",
        "    print(f\"you've secured first class with: {tp}%\")\n",
        "  else:\n",
        "    print(f\"you've secured second class with: {tp}%\")"
      ],
      "metadata": {
        "colab": {
          "base_uri": "https://localhost:8080/"
        },
        "id": "h0L5-G8G9L2O",
        "outputId": "0790db91-52fa-45be-a4dc-e5bfe7c04a1b"
      },
      "execution_count": null,
      "outputs": [
        {
          "output_type": "stream",
          "name": "stdout",
          "text": [
            "Enter num of subjects: 6\n",
            "Enter marks for subject 1: 87\n",
            "Enter marks for subject 2: 77\n",
            "Enter marks for subject 3: 67\n",
            "Enter marks for subject 4: 57\n",
            "Enter marks for subject 5: 47\n",
            "Enter marks for subject 6: 27\n",
            "you've failed in the examinations and seured: 60.333333333333336%\n"
          ]
        }
      ]
    },
    {
      "cell_type": "code",
      "source": [
        "#counting how many sub failes\n",
        "sub = int(input(\"Enter num of subjects: \"))\n",
        "marks_list = []\n",
        "tp =0\n",
        "f =0\n",
        "for i in range(sub):\n",
        "  marks =float(input(f\"Enter marks for subject {i+1}: \"))\n",
        "  assert 0 <= marks <= 100, \"Marks should be between 0 and 100\"\n",
        "  # this block is for counting how many sub the person has failed\n",
        "  if marks<35:\n",
        "    f+=1\n",
        "  tp+=marks\n",
        "  marks_list.append(marks)\n",
        "tp = tp/sub\n",
        "\n",
        "if f>0:\n",
        "  print(f\"you've failed in the {f} sub\\s and seured: {tp}%\")\n",
        "else:\n",
        "  if tp>=80:\n",
        "    print(f\"you've secured distinction with: {tp}%\")\n",
        "  elif tp>=60:\n",
        "    print(f\"you've secured first class with: {tp}%\")\n",
        "  else:\n",
        "    print(f\"you've secured second class with: {tp}%\")"
      ],
      "metadata": {
        "colab": {
          "base_uri": "https://localhost:8080/"
        },
        "id": "Sk9mYtfKCteT",
        "outputId": "40f465c6-02d3-4ea7-e596-31e0e5af83d7"
      },
      "execution_count": null,
      "outputs": [
        {
          "output_type": "stream",
          "name": "stdout",
          "text": [
            "Enter num of subjects: 4\n",
            "Enter marks for subject 1: 33\n",
            "Enter marks for subject 2: 23\n",
            "Enter marks for subject 3: 45\n",
            "Enter marks for subject 4: 67\n",
            "you've failed in the 2 sub\\s and seured: 42.0%\n"
          ]
        }
      ]
    },
    {
      "cell_type": "code",
      "source": [
        "\n",
        "n = int(input( 'numebr of lines'))\n",
        "for i in range(n):\n",
        "  print('*'*(i+1))\n"
      ],
      "metadata": {
        "colab": {
          "base_uri": "https://localhost:8080/"
        },
        "id": "eaGEy2V5HNLH",
        "outputId": "226b4ab5-bfb1-424d-e3e1-e5bee84654ed"
      },
      "execution_count": null,
      "outputs": [
        {
          "output_type": "stream",
          "name": "stdout",
          "text": [
            "numebr of lines5\n",
            "*\n",
            "**\n",
            "***\n",
            "****\n",
            "*****\n"
          ]
        }
      ]
    },
    {
      "cell_type": "code",
      "source": [
        "n = int(input('enter no of lines:'))\n",
        "for i in range(n):\n",
        "  for j in range(i+1):\n",
        "    print(\"*\",end=' ')\n",
        "  print()"
      ],
      "metadata": {
        "colab": {
          "base_uri": "https://localhost:8080/"
        },
        "id": "mmDclo_jL9lK",
        "outputId": "673b915c-02fc-4af5-febc-6082a075b705"
      },
      "execution_count": null,
      "outputs": [
        {
          "output_type": "stream",
          "name": "stdout",
          "text": [
            "enter no of lines:5\n",
            "* \n",
            "* * \n",
            "* * * \n",
            "* * * * \n",
            "* * * * * \n"
          ]
        }
      ]
    },
    {
      "cell_type": "code",
      "source": [
        "n = int(input('enter no of lines:')) # for using one for loop\n",
        "for i in range(n):\n",
        "  for j in range(i,n-1):\n",
        "    print(\" \",end=\" \")\n",
        "  for j in range(i+1):\n",
        "    print(\"*\",end=\" \")\n",
        "  print()\n",
        "\n"
      ],
      "metadata": {
        "colab": {
          "base_uri": "https://localhost:8080/"
        },
        "id": "P2GAl2FJMVeT",
        "outputId": "29e1a1e1-77a8-405e-8cd5-5d70b495ced6"
      },
      "execution_count": null,
      "outputs": [
        {
          "output_type": "stream",
          "name": "stdout",
          "text": [
            "enter no of lines:5\n",
            "        * \n",
            "      * * \n",
            "    * * * \n",
            "  * * * * \n",
            "* * * * * \n"
          ]
        }
      ]
    },
    {
      "cell_type": "code",
      "source": [
        "n = 5\n",
        "for i in range(n):\n",
        "  for j in range(i):\n",
        "    print(\" \",end =\" \")\n",
        "  for j in range(i,n):\n",
        "    print('*',end = \" \")\n",
        "  print()\n"
      ],
      "metadata": {
        "colab": {
          "base_uri": "https://localhost:8080/"
        },
        "id": "0K8pnT40MVbU",
        "outputId": "d6868fff-356d-4ac5-f12e-21e4732d6b80"
      },
      "execution_count": null,
      "outputs": [
        {
          "output_type": "stream",
          "name": "stdout",
          "text": [
            "* * * * * \n",
            "  * * * * \n",
            "    * * * \n",
            "      * * \n",
            "        * \n"
          ]
        }
      ]
    },
    {
      "cell_type": "code",
      "source": [
        "# using 1 for loop\n",
        "\n"
      ],
      "metadata": {
        "id": "ypICxYs4MVXW",
        "colab": {
          "base_uri": "https://localhost:8080/"
        },
        "outputId": "7e61d59d-bfc2-44a2-80a8-503a05d90928"
      },
      "execution_count": null,
      "outputs": [
        {
          "output_type": "stream",
          "name": "stdout",
          "text": [
            "\n",
            " \n",
            "  \n",
            "   \n",
            "    \n"
          ]
        }
      ]
    },
    {
      "cell_type": "code",
      "source": [
        "for i in range(1,n+1):\n",
        "  print('c'*(i+1)+'*'*(n-i))"
      ],
      "metadata": {
        "colab": {
          "base_uri": "https://localhost:8080/"
        },
        "id": "S7QpmPEbIP7D",
        "outputId": "df6476e8-30d3-44db-96e1-00ff769406a1"
      },
      "execution_count": null,
      "outputs": [
        {
          "output_type": "stream",
          "name": "stdout",
          "text": [
            "cc****\n",
            "ccc***\n",
            "cccc**\n",
            "ccccc*\n",
            "cccccc\n"
          ]
        }
      ]
    },
    {
      "cell_type": "code",
      "source": [
        "n = 5\n",
        "for i in range(n):\n",
        "  for j in range(i+1):\n",
        "    print(\"c\",end =\" \")\n",
        "  for j in range(i,n):\n",
        "    print('*',end = \" \")\n",
        "  print()"
      ],
      "metadata": {
        "colab": {
          "base_uri": "https://localhost:8080/"
        },
        "id": "1LFXAVljMzOn",
        "outputId": "3450ff40-e10f-44fe-e49f-543b7783799b"
      },
      "execution_count": null,
      "outputs": [
        {
          "output_type": "stream",
          "name": "stdout",
          "text": [
            "c * * * * * \n",
            "c c * * * * \n",
            "c c c * * * \n",
            "c c c c * * \n",
            "c c c c c * \n"
          ]
        }
      ]
    },
    {
      "cell_type": "code",
      "source": [
        "n = 5\n",
        "for i in range(n):\n",
        "  for j in range(i):\n",
        "    print(\"c\",end =\" \")\n",
        "  for j in range(i,(n-1)):\n",
        "    print('*',end = \" \")\n",
        "  print()"
      ],
      "metadata": {
        "colab": {
          "base_uri": "https://localhost:8080/"
        },
        "id": "X63MW3VCOaOm",
        "outputId": "3fd617bd-5d7f-4c0a-cc22-98dd98c4243e"
      },
      "execution_count": null,
      "outputs": [
        {
          "output_type": "stream",
          "name": "stdout",
          "text": [
            "* * * * \n",
            "c * * * \n",
            "c c * * \n",
            "c c c * \n",
            "c c c c \n"
          ]
        }
      ]
    },
    {
      "cell_type": "code",
      "source": [
        "for i in range(n):\n",
        "  print(\" \"*(n-i-1) + (\"*\"*(i+(i+1))))"
      ],
      "metadata": {
        "colab": {
          "base_uri": "https://localhost:8080/"
        },
        "id": "HYU3yKTzQdES",
        "outputId": "2718eec0-b9ef-44c2-f7f9-af481308ec8a"
      },
      "execution_count": null,
      "outputs": [
        {
          "output_type": "stream",
          "name": "stdout",
          "text": [
            "    *\n",
            "   ***\n",
            "  *****\n",
            " *******\n",
            "*********\n"
          ]
        }
      ]
    },
    {
      "cell_type": "code",
      "source": [
        "for i in range(n):\n",
        "  for j in range(n-i-1):\n",
        "    print(\" \",end = \" \")\n",
        "  for j in range(i+(i+1)):\n",
        "    print(\"*\",end = \" \")\n",
        "  print()"
      ],
      "metadata": {
        "colab": {
          "base_uri": "https://localhost:8080/"
        },
        "id": "klRinamkUA7D",
        "outputId": "ee12d024-3f5e-4acf-8c3a-a35cb592aa07"
      },
      "execution_count": null,
      "outputs": [
        {
          "output_type": "stream",
          "name": "stdout",
          "text": [
            "        * \n",
            "      * * * \n",
            "    * * * * * \n",
            "  * * * * * * * \n",
            "* * * * * * * * * \n"
          ]
        }
      ]
    },
    {
      "cell_type": "code",
      "source": [
        "for i in range(n):\n",
        "  for j in range(n-i-1):\n",
        "    print(\"c\",end = \" \")\n",
        "  for j in range(i+(i+1)):\n",
        "    print(\"*\",end = \" \")\n",
        "  for j in range(n-i-1):\n",
        "    print(\"c\",end = \" \")\n",
        "  print()"
      ],
      "metadata": {
        "colab": {
          "base_uri": "https://localhost:8080/"
        },
        "id": "DPnIPlCqU6W7",
        "outputId": "f78d7439-b9b4-4fbb-b2e7-bc615a14bcfe"
      },
      "execution_count": null,
      "outputs": [
        {
          "output_type": "stream",
          "name": "stdout",
          "text": [
            "c c c c * c c c c \n",
            "c c c * * * c c c \n",
            "c c * * * * * c c \n",
            "c * * * * * * * c \n",
            "* * * * * * * * * \n"
          ]
        }
      ]
    },
    {
      "cell_type": "code",
      "source": [
        "for i in range(n):\n",
        "  print((\"c\"*(n-i-1) + (\"*\"*(i+(i+1)))+ \"c\"*(n-i-1)))"
      ],
      "metadata": {
        "colab": {
          "base_uri": "https://localhost:8080/"
        },
        "id": "J1DuiPnVVYl5",
        "outputId": "04693c6d-9324-41a1-dbe6-874be8e3274d"
      },
      "execution_count": null,
      "outputs": [
        {
          "output_type": "stream",
          "name": "stdout",
          "text": [
            "ccccccccc*cccc\n",
            "cccccccc***ccc\n",
            "ccccccc*****cc\n",
            "cccccc*******c\n",
            "ccccc*********\n"
          ]
        }
      ]
    },
    {
      "cell_type": "code",
      "source": [
        "for i in range(n):\n",
        "  print(\"c\"*(n-i-1) + (\"*\"*(i+(i+1)))+ \"c\"*(n-i-1))"
      ],
      "metadata": {
        "colab": {
          "base_uri": "https://localhost:8080/"
        },
        "id": "NCCCmm8VVm-7",
        "outputId": "daee2aa1-e48d-44f0-88c7-98e231506caf"
      },
      "execution_count": null,
      "outputs": [
        {
          "output_type": "stream",
          "name": "stdout",
          "text": [
            "cccc*cccc\n",
            "ccc***ccc\n",
            "cc*****cc\n",
            "c*******c\n",
            "*********\n"
          ]
        }
      ]
    },
    {
      "cell_type": "code",
      "source": [],
      "metadata": {
        "colab": {
          "base_uri": "https://localhost:8080/"
        },
        "id": "NE483YhvYofO",
        "outputId": "90a47181-77ae-4962-de5e-401db3d62b47"
      },
      "execution_count": null,
      "outputs": [
        {
          "output_type": "stream",
          "name": "stdout",
          "text": [
            "*        *\n",
            "**        **\n",
            "***        ***\n",
            "****        ****\n",
            "*****        *****\n"
          ]
        }
      ]
    }
  ]
}