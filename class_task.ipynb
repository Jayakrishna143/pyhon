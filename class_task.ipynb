{
  "nbformat": 4,
  "nbformat_minor": 0,
  "metadata": {
    "colab": {
      "provenance": [],
      "authorship_tag": "ABX9TyPCYzPlYSfpsiXmfe3U0/f0",
      "include_colab_link": true
    },
    "kernelspec": {
      "name": "python3",
      "display_name": "Python 3"
    },
    "language_info": {
      "name": "python"
    }
  },
  "cells": [
    {
      "cell_type": "markdown",
      "metadata": {
        "id": "view-in-github",
        "colab_type": "text"
      },
      "source": [
        "<a href=\"https://colab.research.google.com/github/Jayakrishna143/pyhon/blob/main/class_task.ipynb\" target=\"_parent\"><img src=\"https://colab.research.google.com/assets/colab-badge.svg\" alt=\"Open In Colab\"/></a>"
      ]
    },
    {
      "cell_type": "code",
      "execution_count": null,
      "metadata": {
        "colab": {
          "base_uri": "https://localhost:8080/"
        },
        "id": "pztT3eQSBsaf",
        "outputId": "dbe6d5d9-f66e-42ea-aea9-ceebfe1e1b3a"
      },
      "outputs": [
        {
          "output_type": "stream",
          "name": "stdout",
          "text": [
            "Enter marks percentage: 35.7\n",
            "Rank: E\n"
          ]
        }
      ],
      "source": [
        "\n",
        "marks = float(input(\"Enter marks percentage: \"))\n",
        "\n",
        "assert 0 <= marks <= 100, \"Marks percentage should be between 0 and 100\"\n",
        "\n",
        "if marks >= 90:\n",
        "  print(\"Rank: A\")\n",
        "elif marks >= 75:\n",
        "  print(\"Rank: B\")\n",
        "elif marks >= 55:\n",
        "  print(\"Rank: C\")\n",
        "elif marks >= 45:\n",
        "  print(\"Rank: D\")\n",
        "elif marks >= 35:\n",
        "  print(\"Rank: E\")\n",
        "else:\n",
        "  print(\"Rank: F\")"
      ]
    },
    {
      "cell_type": "code",
      "source": [
        "num1 = float(input(\"Enter first number: \"))\n",
        "num2 = float(input(\"Enter second number: \"))\n",
        "operator = input(\"Enter operator: \")\n",
        "\n",
        "if operator == '+':\n",
        "  print(num1 + num2)\n",
        "elif operator == '-':\n",
        "  print(num1 - num2)\n",
        "elif operator == '*':\n",
        "  print(num1 * num2)\n",
        "elif operator == '/':\n",
        "  print(num1 / num2)"
      ],
      "metadata": {
        "colab": {
          "base_uri": "https://localhost:8080/"
        },
        "id": "IPOxAAgAD8je",
        "outputId": "4a4a486b-512d-48bf-9c0a-eaa17c11006e"
      },
      "execution_count": null,
      "outputs": [
        {
          "output_type": "stream",
          "name": "stdout",
          "text": [
            "Enter first number: 23.5\n",
            "Enter second number: 24.5\n",
            "Enter operator: +\n",
            "48.0\n"
          ]
        }
      ]
    },
    {
      "cell_type": "code",
      "source": [
        "x = input('please close the door id ac is on ')"
      ],
      "metadata": {
        "id": "1w0klswTRE5_"
      },
      "execution_count": null,
      "outputs": []
    },
    {
      "cell_type": "code",
      "source": [
        "a = input('enter a string')\n",
        "y = input(\"Enter the substring to search for: \")\n",
        "last_occurrence = -1\n",
        "\n",
        "for i in range(len(a) - len(y) + 1):\n",
        "    if a[i:i + len(y)] == y:\n",
        "        last_occurrence = i\n",
        "\n",
        "print(f\"The last occurrence of '{y}' is at index: {last_occurrence}\")"
      ],
      "metadata": {
        "colab": {
          "base_uri": "https://localhost:8080/"
        },
        "id": "RfYDNktTj9gR",
        "outputId": "25ae9870-10ba-4fdc-aac5-14099b0f877b"
      },
      "execution_count": null,
      "outputs": [
        {
          "output_type": "stream",
          "name": "stdout",
          "text": [
            "enter a stringmalyalam\n",
            "Enter the substring to search for: m\n",
            "The last occurrence of 'm' is at index: 7\n"
          ]
        }
      ]
    },
    {
      "cell_type": "code",
      "source": [
        "len(a)"
      ],
      "metadata": {
        "colab": {
          "base_uri": "https://localhost:8080/"
        },
        "id": "xCJPnI5-knMJ",
        "outputId": "71c3532f-1dcb-4de8-c1f1-cde905e7b045"
      },
      "execution_count": null,
      "outputs": [
        {
          "output_type": "execute_result",
          "data": {
            "text/plain": [
              "17"
            ]
          },
          "metadata": {},
          "execution_count": 2
        }
      ]
    },
    {
      "cell_type": "code",
      "source": [
        "a[14]"
      ],
      "metadata": {
        "colab": {
          "base_uri": "https://localhost:8080/",
          "height": 35
        },
        "id": "6sPlPXbsksYH",
        "outputId": "880c775f-7ff2-4c18-a60a-73da80f7ace3"
      },
      "execution_count": null,
      "outputs": [
        {
          "output_type": "execute_result",
          "data": {
            "text/plain": [
              "'d'"
            ],
            "application/vnd.google.colaboratory.intrinsic+json": {
              "type": "string"
            }
          },
          "metadata": {},
          "execution_count": 4
        }
      ]
    }
  ]
}