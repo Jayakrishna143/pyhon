{
  "nbformat": 4,
  "nbformat_minor": 0,
  "metadata": {
    "colab": {
      "provenance": [],
      "authorship_tag": "ABX9TyMTgI5/tSqpfLRY1550r7JZ",
      "include_colab_link": true
    },
    "kernelspec": {
      "name": "python3",
      "display_name": "Python 3"
    },
    "language_info": {
      "name": "python"
    }
  },
  "cells": [
    {
      "cell_type": "markdown",
      "metadata": {
        "id": "view-in-github",
        "colab_type": "text"
      },
      "source": [
        "<a href=\"https://colab.research.google.com/github/Jayakrishna143/python/blob/main/class_task.ipynb\" target=\"_parent\"><img src=\"https://colab.research.google.com/assets/colab-badge.svg\" alt=\"Open In Colab\"/></a>"
      ]
    },
    {
      "cell_type": "code",
      "execution_count": null,
      "metadata": {
        "colab": {
          "base_uri": "https://localhost:8080/"
        },
        "id": "pztT3eQSBsaf",
        "outputId": "dbe6d5d9-f66e-42ea-aea9-ceebfe1e1b3a"
      },
      "outputs": [
        {
          "output_type": "stream",
          "name": "stdout",
          "text": [
            "Enter marks percentage: 35.7\n",
            "Rank: E\n"
          ]
        }
      ],
      "source": [
        "\n",
        "marks = float(input(\"Enter marks percentage: \"))\n",
        "\n",
        "assert 0 <= marks <= 100, \"Marks percentage should be between 0 and 100\"\n",
        "\n",
        "if marks >= 90:\n",
        "  print(\"Rank: A\")\n",
        "elif marks >= 75:\n",
        "  print(\"Rank: B\")\n",
        "elif marks >= 55:\n",
        "  print(\"Rank: C\")\n",
        "elif marks >= 45:\n",
        "  print(\"Rank: D\")\n",
        "elif marks >= 35:\n",
        "  print(\"Rank: E\")\n",
        "else:\n",
        "  print(\"Rank: F\")"
      ]
    },
    {
      "cell_type": "code",
      "source": [
        "num1 = float(input(\"Enter first number: \"))\n",
        "num2 = float(input(\"Enter second number: \"))\n",
        "operator = input(\"Enter operator: \")\n",
        "\n",
        "if operator == '+':\n",
        "  print(num1 + num2)\n",
        "elif operator == '-':\n",
        "  print(num1 - num2)\n",
        "elif operator == '*':\n",
        "  print(num1 * num2)\n",
        "elif operator == '/':\n",
        "  print(num1 / num2)"
      ],
      "metadata": {
        "colab": {
          "base_uri": "https://localhost:8080/"
        },
        "id": "IPOxAAgAD8je",
        "outputId": "4a4a486b-512d-48bf-9c0a-eaa17c11006e"
      },
      "execution_count": null,
      "outputs": [
        {
          "output_type": "stream",
          "name": "stdout",
          "text": [
            "Enter first number: 23.5\n",
            "Enter second number: 24.5\n",
            "Enter operator: +\n",
            "48.0\n"
          ]
        }
      ]
    },
    {
      "cell_type": "code",
      "source": [
        "x = input('please close the door id ac is on ')"
      ],
      "metadata": {
        "id": "1w0klswTRE5_"
      },
      "execution_count": null,
      "outputs": []
    },
    {
      "cell_type": "code",
      "source": [
        "a = input('enter a string')\n",
        "y = input(\"Enter the substring to search for: \")\n",
        "last_occurrence = -1\n",
        "\n",
        "for i in range(len(a) - len(y) + 1):\n",
        "    if a[i:i + len(y)] == y:\n",
        "        last_occurrence = i\n",
        "\n",
        "print(f\"The last occurrence of '{y}' is at index: {last_occurrence}\")"
      ],
      "metadata": {
        "colab": {
          "base_uri": "https://localhost:8080/"
        },
        "id": "RfYDNktTj9gR",
        "outputId": "25ae9870-10ba-4fdc-aac5-14099b0f877b"
      },
      "execution_count": null,
      "outputs": [
        {
          "output_type": "stream",
          "name": "stdout",
          "text": [
            "enter a stringmalyalam\n",
            "Enter the substring to search for: m\n",
            "The last occurrence of 'm' is at index: 7\n"
          ]
        }
      ]
    },
    {
      "cell_type": "code",
      "source": [
        "len(a)"
      ],
      "metadata": {
        "colab": {
          "base_uri": "https://localhost:8080/"
        },
        "id": "xCJPnI5-knMJ",
        "outputId": "71c3532f-1dcb-4de8-c1f1-cde905e7b045"
      },
      "execution_count": null,
      "outputs": [
        {
          "output_type": "execute_result",
          "data": {
            "text/plain": [
              "17"
            ]
          },
          "metadata": {},
          "execution_count": 2
        }
      ]
    },
    {
      "cell_type": "code",
      "source": [
        "a[14]"
      ],
      "metadata": {
        "colab": {
          "base_uri": "https://localhost:8080/",
          "height": 35
        },
        "id": "6sPlPXbsksYH",
        "outputId": "880c775f-7ff2-4c18-a60a-73da80f7ace3"
      },
      "execution_count": null,
      "outputs": [
        {
          "output_type": "execute_result",
          "data": {
            "text/plain": [
              "'d'"
            ],
            "application/vnd.google.colaboratory.intrinsic+json": {
              "type": "string"
            }
          },
          "metadata": {},
          "execution_count": 4
        }
      ]
    },
    {
      "cell_type": "code",
      "source": [
        "sub = int(input(\"Enter num of subjects: \"))\n",
        "marks_list = []\n",
        "tp =0\n",
        "for i in range(sub):\n",
        "  marks =float(input(f\"Enter marks for subject {i+1}: \"))\n",
        "  assert 0 <= marks <= 100, \"Marks should be between 0 and 100\"\n",
        "  tp+=marks\n",
        "  marks_list.append(marks)\n",
        "marks_list.sort()\n",
        "\n",
        "z =marks_list[0]\n",
        "tp = tp/sub\n",
        "\n",
        "if z<35:\n",
        "  print(f\"you've failed in the examinations and seured: {tp}%\")\n",
        "else:\n",
        "  if tp>=80:\n",
        "    print(f\"you've secured distinction with: {tp}%\")\n",
        "  elif tp>=60:\n",
        "    print(f\"you've secured first class with: {tp}%\")\n",
        "  else:\n",
        "    print(f\"you've secured second class with: {tp}%\")"
      ],
      "metadata": {
        "colab": {
          "base_uri": "https://localhost:8080/"
        },
        "id": "h0L5-G8G9L2O",
        "outputId": "0790db91-52fa-45be-a4dc-e5bfe7c04a1b"
      },
      "execution_count": 7,
      "outputs": [
        {
          "output_type": "stream",
          "name": "stdout",
          "text": [
            "Enter num of subjects: 6\n",
            "Enter marks for subject 1: 87\n",
            "Enter marks for subject 2: 77\n",
            "Enter marks for subject 3: 67\n",
            "Enter marks for subject 4: 57\n",
            "Enter marks for subject 5: 47\n",
            "Enter marks for subject 6: 27\n",
            "you've failed in the examinations and seured: 60.333333333333336%\n"
          ]
        }
      ]
    },
    {
      "cell_type": "code",
      "source": [
        "#counting how many sub failes\n",
        "sub = int(input(\"Enter num of subjects: \"))\n",
        "marks_list = []\n",
        "tp =0\n",
        "f =0\n",
        "for i in range(sub):\n",
        "  marks =float(input(f\"Enter marks for subject {i+1}: \"))\n",
        "  assert 0 <= marks <= 100, \"Marks should be between 0 and 100\"\n",
        "  # this block is for counting how many sub the person has failed\n",
        "  if marks<35:\n",
        "    f+=1\n",
        "  tp+=marks\n",
        "  marks_list.append(marks)\n",
        "tp = tp/sub\n",
        "\n",
        "if f>0:\n",
        "  print(f\"you've failed in the {f} sub\\s and seured: {tp}%\")\n",
        "else:\n",
        "  if tp>=80:\n",
        "    print(f\"you've secured distinction with: {tp}%\")\n",
        "  elif tp>=60:\n",
        "    print(f\"you've secured first class with: {tp}%\")\n",
        "  else:\n",
        "    print(f\"you've secured second class with: {tp}%\")"
      ],
      "metadata": {
        "colab": {
          "base_uri": "https://localhost:8080/"
        },
        "id": "Sk9mYtfKCteT",
        "outputId": "40f465c6-02d3-4ea7-e596-31e0e5af83d7"
      },
      "execution_count": 8,
      "outputs": [
        {
          "output_type": "stream",
          "name": "stdout",
          "text": [
            "Enter num of subjects: 4\n",
            "Enter marks for subject 1: 33\n",
            "Enter marks for subject 2: 23\n",
            "Enter marks for subject 3: 45\n",
            "Enter marks for subject 4: 67\n",
            "you've failed in the 2 sub\\s and seured: 42.0%\n"
          ]
        }
      ]
    },
    {
      "cell_type": "code",
      "source": [
        "\n",
        "n = int(input( 'numebr of lines'))\n",
        "for i in range(n):\n",
        "  print('*'*(i+1))\n"
      ],
      "metadata": {
        "colab": {
          "base_uri": "https://localhost:8080/"
        },
        "id": "eaGEy2V5HNLH",
        "outputId": "226b4ab5-bfb1-424d-e3e1-e5bee84654ed"
      },
      "execution_count": 12,
      "outputs": [
        {
          "output_type": "stream",
          "name": "stdout",
          "text": [
            "numebr of lines5\n",
            "*\n",
            "**\n",
            "***\n",
            "****\n",
            "*****\n"
          ]
        }
      ]
    },
    {
      "cell_type": "code",
      "source": [
        "n = int(input('Enter no of rows'))\n",
        "for i in range(n):\n",
        "  print(' '*(n-i-1)+ '*'*(2*i+1))"
      ],
      "metadata": {
        "colab": {
          "base_uri": "https://localhost:8080/",
          "height": 338
        },
        "id": "6BsZGkBlIv9J",
        "outputId": "12648ff7-a572-4626-d0bf-f5ac0d7d0f18"
      },
      "execution_count": 17,
      "outputs": [
        {
          "output_type": "error",
          "ename": "KeyboardInterrupt",
          "evalue": "Interrupted by user",
          "traceback": [
            "\u001b[0;31m---------------------------------------------------------------------------\u001b[0m",
            "\u001b[0;31mKeyboardInterrupt\u001b[0m                         Traceback (most recent call last)",
            "\u001b[0;32m<ipython-input-17-42f6d4afe0af>\u001b[0m in \u001b[0;36m<cell line: 1>\u001b[0;34m()\u001b[0m\n\u001b[0;32m----> 1\u001b[0;31m \u001b[0mn\u001b[0m \u001b[0;34m=\u001b[0m \u001b[0mint\u001b[0m\u001b[0;34m(\u001b[0m\u001b[0minput\u001b[0m\u001b[0;34m(\u001b[0m\u001b[0;34m'Enter no of rows'\u001b[0m\u001b[0;34m)\u001b[0m\u001b[0;34m)\u001b[0m\u001b[0;34m\u001b[0m\u001b[0;34m\u001b[0m\u001b[0m\n\u001b[0m\u001b[1;32m      2\u001b[0m \u001b[0;32mfor\u001b[0m \u001b[0mi\u001b[0m \u001b[0;32min\u001b[0m \u001b[0mrange\u001b[0m\u001b[0;34m(\u001b[0m\u001b[0mn\u001b[0m\u001b[0;34m)\u001b[0m\u001b[0;34m:\u001b[0m\u001b[0;34m\u001b[0m\u001b[0;34m\u001b[0m\u001b[0m\n\u001b[1;32m      3\u001b[0m   \u001b[0mprint\u001b[0m\u001b[0;34m(\u001b[0m\u001b[0;34m' '\u001b[0m\u001b[0;34m*\u001b[0m\u001b[0;34m(\u001b[0m\u001b[0mn\u001b[0m\u001b[0;34m-\u001b[0m\u001b[0mi\u001b[0m\u001b[0;34m-\u001b[0m\u001b[0;36m1\u001b[0m\u001b[0;34m)\u001b[0m\u001b[0;34m+\u001b[0m \u001b[0;34m'*'\u001b[0m\u001b[0;34m*\u001b[0m\u001b[0;34m(\u001b[0m\u001b[0;36m2\u001b[0m\u001b[0;34m*\u001b[0m\u001b[0mi\u001b[0m\u001b[0;34m+\u001b[0m\u001b[0;36m1\u001b[0m\u001b[0;34m)\u001b[0m\u001b[0;34m)\u001b[0m\u001b[0;34m\u001b[0m\u001b[0;34m\u001b[0m\u001b[0m\n",
            "\u001b[0;32m/usr/local/lib/python3.10/dist-packages/ipykernel/kernelbase.py\u001b[0m in \u001b[0;36mraw_input\u001b[0;34m(self, prompt)\u001b[0m\n\u001b[1;32m    849\u001b[0m                 \u001b[0;34m\"raw_input was called, but this frontend does not support input requests.\"\u001b[0m\u001b[0;34m\u001b[0m\u001b[0;34m\u001b[0m\u001b[0m\n\u001b[1;32m    850\u001b[0m             )\n\u001b[0;32m--> 851\u001b[0;31m         return self._input_request(str(prompt),\n\u001b[0m\u001b[1;32m    852\u001b[0m             \u001b[0mself\u001b[0m\u001b[0;34m.\u001b[0m\u001b[0m_parent_ident\u001b[0m\u001b[0;34m,\u001b[0m\u001b[0;34m\u001b[0m\u001b[0;34m\u001b[0m\u001b[0m\n\u001b[1;32m    853\u001b[0m             \u001b[0mself\u001b[0m\u001b[0;34m.\u001b[0m\u001b[0m_parent_header\u001b[0m\u001b[0;34m,\u001b[0m\u001b[0;34m\u001b[0m\u001b[0;34m\u001b[0m\u001b[0m\n",
            "\u001b[0;32m/usr/local/lib/python3.10/dist-packages/ipykernel/kernelbase.py\u001b[0m in \u001b[0;36m_input_request\u001b[0;34m(self, prompt, ident, parent, password)\u001b[0m\n\u001b[1;32m    893\u001b[0m             \u001b[0;32mexcept\u001b[0m \u001b[0mKeyboardInterrupt\u001b[0m\u001b[0;34m:\u001b[0m\u001b[0;34m\u001b[0m\u001b[0;34m\u001b[0m\u001b[0m\n\u001b[1;32m    894\u001b[0m                 \u001b[0;31m# re-raise KeyboardInterrupt, to truncate traceback\u001b[0m\u001b[0;34m\u001b[0m\u001b[0;34m\u001b[0m\u001b[0m\n\u001b[0;32m--> 895\u001b[0;31m                 \u001b[0;32mraise\u001b[0m \u001b[0mKeyboardInterrupt\u001b[0m\u001b[0;34m(\u001b[0m\u001b[0;34m\"Interrupted by user\"\u001b[0m\u001b[0;34m)\u001b[0m \u001b[0;32mfrom\u001b[0m \u001b[0;32mNone\u001b[0m\u001b[0;34m\u001b[0m\u001b[0;34m\u001b[0m\u001b[0m\n\u001b[0m\u001b[1;32m    896\u001b[0m             \u001b[0;32mexcept\u001b[0m \u001b[0mException\u001b[0m \u001b[0;32mas\u001b[0m \u001b[0me\u001b[0m\u001b[0;34m:\u001b[0m\u001b[0;34m\u001b[0m\u001b[0;34m\u001b[0m\u001b[0m\n\u001b[1;32m    897\u001b[0m                 \u001b[0mself\u001b[0m\u001b[0;34m.\u001b[0m\u001b[0mlog\u001b[0m\u001b[0;34m.\u001b[0m\u001b[0mwarning\u001b[0m\u001b[0;34m(\u001b[0m\u001b[0;34m\"Invalid Message:\"\u001b[0m\u001b[0;34m,\u001b[0m \u001b[0mexc_info\u001b[0m\u001b[0;34m=\u001b[0m\u001b[0;32mTrue\u001b[0m\u001b[0;34m)\u001b[0m\u001b[0;34m\u001b[0m\u001b[0;34m\u001b[0m\u001b[0m\n",
            "\u001b[0;31mKeyboardInterrupt\u001b[0m: Interrupted by user"
          ]
        }
      ]
    },
    {
      "cell_type": "code",
      "source": [
        "n = int(input('enter no of lines:'))\n",
        "for i in range(n):\n",
        "  for j in range(i+1):\n",
        "    print(\" \",end='*')\n",
        "  print()"
      ],
      "metadata": {
        "colab": {
          "base_uri": "https://localhost:8080/"
        },
        "id": "mmDclo_jL9lK",
        "outputId": "f9762712-ab7d-4246-ffff-6358331fc27d"
      },
      "execution_count": 18,
      "outputs": [
        {
          "output_type": "stream",
          "name": "stdout",
          "text": [
            "enter no of lines:5\n",
            " *\n",
            " * *\n",
            " * * *\n",
            " * * * *\n",
            " * * * * *\n"
          ]
        }
      ]
    },
    {
      "cell_type": "code",
      "source": [
        "n = int(input('enter no of lines:'))\n",
        "for i in range(n):\n",
        "  for j in range(i,n-1):\n",
        "    print(\" \",end=\" \")\n",
        "  for j in range(i+1):\n",
        "    print(\"*\",end=\" \")\n",
        "  print()"
      ],
      "metadata": {
        "colab": {
          "base_uri": "https://localhost:8080/"
        },
        "id": "P2GAl2FJMVeT",
        "outputId": "324dc7d0-5de3-4cc6-95a8-4746e2e17a8e"
      },
      "execution_count": 9,
      "outputs": [
        {
          "output_type": "stream",
          "name": "stdout",
          "text": [
            "enter no of lines:7\n",
            "            * \n",
            "          * * \n",
            "        * * * \n",
            "      * * * * \n",
            "    * * * * * \n",
            "  * * * * * * \n",
            "* * * * * * * \n"
          ]
        }
      ]
    },
    {
      "cell_type": "code",
      "source": [
        "n = 5\n",
        "for i in range(n):\n",
        "  for j in range(i):\n",
        "    print(\" \",end =\" \")\n",
        "  for j in range(i,n):\n",
        "    print('*',end = \" \")\n",
        "  print()\n"
      ],
      "metadata": {
        "colab": {
          "base_uri": "https://localhost:8080/"
        },
        "id": "0K8pnT40MVbU",
        "outputId": "b74826c8-fea8-4fc9-c552-798e824fcc58"
      },
      "execution_count": 5,
      "outputs": [
        {
          "output_type": "stream",
          "name": "stdout",
          "text": [
            "* * * * * \n",
            "  * * * * \n",
            "    * * * \n",
            "      * * \n",
            "        * \n"
          ]
        }
      ]
    },
    {
      "cell_type": "code",
      "source": [],
      "metadata": {
        "id": "ypICxYs4MVXW"
      },
      "execution_count": null,
      "outputs": []
    }
  ]
}