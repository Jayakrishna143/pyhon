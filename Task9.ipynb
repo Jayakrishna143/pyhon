{
  "nbformat": 4,
  "nbformat_minor": 0,
  "metadata": {
    "colab": {
      "provenance": [],
      "include_colab_link": true
    },
    "kernelspec": {
      "name": "python3",
      "display_name": "Python 3"
    },
    "language_info": {
      "name": "python"
    }
  },
  "cells": [
    {
      "cell_type": "markdown",
      "metadata": {
        "id": "view-in-github",
        "colab_type": "text"
      },
      "source": [
        "<a href=\"https://colab.research.google.com/github/Jayakrishna143/python/blob/main/Task9.ipynb\" target=\"_parent\"><img src=\"https://colab.research.google.com/assets/colab-badge.svg\" alt=\"Open In Colab\"/></a>"
      ]
    },
    {
      "cell_type": "markdown",
      "source": [
        "lower()\n",
        "\n",
        "The Python lower() method is used to convert all characters of the string in lowercase. Any symbol, space, or number in the string is ignored while applying this method. Only alphabet are converted.\n",
        "```\n",
        "Syntax\n",
        "string.lower()\n",
        "```\n"
      ],
      "metadata": {
        "id": "fsYdH_GBIl4g"
      }
    },
    {
      "cell_type": "code",
      "source": [
        "MyString = \"Hello John!\"\n",
        "print(MyString.lower())"
      ],
      "metadata": {
        "colab": {
          "base_uri": "https://localhost:8080/"
        },
        "id": "AE6WGixkJpNl",
        "outputId": "510c4c17-deee-465e-b323-cf39ef422617"
      },
      "execution_count": 1,
      "outputs": [
        {
          "output_type": "stream",
          "name": "stdout",
          "text": [
            "hello john!\n"
          ]
        }
      ]
    },
    {
      "cell_type": "markdown",
      "source": [
        "upper()\n",
        "\n",
        "The Python upper() method is used to convert all characters of the string in uppercase. Any symbol, space, special character or number in the string is ignored while applying this method. Only Alphabets are converted.\n",
        "```\n",
        "Syntax\n",
        "string.upper()\n",
        "```"
      ],
      "metadata": {
        "id": "mD42tmGyJ-jt"
      }
    },
    {
      "cell_type": "code",
      "execution_count": 2,
      "metadata": {
        "colab": {
          "base_uri": "https://localhost:8080/",
          "height": 53
        },
        "id": "QT15Erz6jTqw",
        "outputId": "545e86d9-364b-4bc2-eb9b-18eccbead166"
      },
      "outputs": [
        {
          "name": "stdout",
          "output_type": "stream",
          "text": [
            "Enter a string:Jaya\n"
          ]
        },
        {
          "output_type": "execute_result",
          "data": {
            "text/plain": [
              "'JAYA'"
            ],
            "application/vnd.google.colaboratory.intrinsic+json": {
              "type": "string"
            }
          },
          "metadata": {},
          "execution_count": 2
        }
      ],
      "source": [
        "# connverting lowercase to uppercase using for loop\n",
        "s=input('Enter a string:')\n",
        "s1=''\n",
        "for i in s:\n",
        "  if ord(i) in range(ord('a'),ord('z')+1):\n",
        "    s1 +=chr(ord(i)-32)\n",
        "  else:\n",
        "    s1+=i\n",
        "s1"
      ]
    },
    {
      "cell_type": "markdown",
      "source": [
        "title\n",
        "\n",
        "The Python title() method is used to convert all characters of the string in title format. A title format consists of first character of every word in uppercase and rest in lowercase. Any symbol, space, special character or number in the string is ignored while applying this method. Only Alphabets are converted.\n",
        "```\n",
        "Syntax\n",
        "string.title()\n",
        "```\n"
      ],
      "metadata": {
        "id": "p5EbJYA-KLD6"
      }
    },
    {
      "cell_type": "code",
      "source": [
        "MyString = \"learning python is fun.\"\n",
        "print(MyString.title())"
      ],
      "metadata": {
        "colab": {
          "base_uri": "https://localhost:8080/"
        },
        "id": "qbWznoRhLGEy",
        "outputId": "7151d86b-1e65-462e-9541-f3f9efcfc97d"
      },
      "execution_count": 3,
      "outputs": [
        {
          "output_type": "stream",
          "name": "stdout",
          "text": [
            "Learning Python Is Fun.\n"
          ]
        }
      ]
    },
    {
      "cell_type": "code",
      "source": [
        "# converting string into title using loops\n",
        "s=input('Enter a string:')\n",
        "s1=''\n",
        "# ls=s.split()\n",
        "ls=[]\n",
        "s2=''\n",
        "for j in s:\n",
        "  if j !=' ':\n",
        "    s2+=j\n",
        "  else:\n",
        "    if s2:\n",
        "      ls.append(s2)\n",
        "      s2=''\n",
        "ls.append(s2)\n",
        "s3=''\n",
        "for i in ls:\n",
        "  for j in range(len(i)):\n",
        "    if j==0:\n",
        "      if ord(i[j]) in range(ord('a'),ord('z')+1):\n",
        "        s1+=chr(ord(i[j])-32)\n",
        "      else:\n",
        "        s1+=i[j]\n",
        "    else:\n",
        "      if ord(i[j]) in range(ord('A'),ord('Z')+1):\n",
        "        s1+=chr(ord(i[j])+32)\n",
        "      else:\n",
        "        s1+=i[j]\n",
        "  s3 += s1 + ' '\n",
        "  s1=''\n",
        "s3\n",
        "#---------------------2nd way--------------------------------------\n",
        "# for i in ls:\n",
        "#   s3+=i[0].upper()+i[1:].lower()+' '\n",
        "# s3"
      ],
      "metadata": {
        "colab": {
          "base_uri": "https://localhost:8080/",
          "height": 53
        },
        "id": "Wz4M1VZipjaG",
        "outputId": "a0c8ab70-6326-4fa1-f846-086af8733d62"
      },
      "execution_count": 4,
      "outputs": [
        {
          "name": "stdout",
          "output_type": "stream",
          "text": [
            "Enter a string:Jay\n"
          ]
        },
        {
          "output_type": "execute_result",
          "data": {
            "text/plain": [
              "'Jay '"
            ],
            "application/vnd.google.colaboratory.intrinsic+json": {
              "type": "string"
            }
          },
          "metadata": {},
          "execution_count": 4
        }
      ]
    },
    {
      "cell_type": "markdown",
      "source": [
        "**capitalize()**\n",
        "\n",
        "The Python capitalize() method returns the string with first character of the specified string into uppercase and rest into lowercase. Any symbol, space, special character or number in the string is ignored while applying this function. Only Alphabets are converted. Please note that it does not change the original string and only returns the converted version of the given string.\n",
        "\n",
        "Syntax\n",
        "string.capitalize()"
      ],
      "metadata": {
        "id": "XusT04oDKXa6"
      }
    },
    {
      "cell_type": "code",
      "source": [
        "MyString = \"heLLo woRld!\"\n",
        "NewString = MyString.capitalize()\n",
        "\n",
        "print(MyString)\n",
        "print(NewString)"
      ],
      "metadata": {
        "colab": {
          "base_uri": "https://localhost:8080/"
        },
        "id": "yg07GM66LrPt",
        "outputId": "6681ca7c-e11d-4184-ba37-6fd3c2640a62"
      },
      "execution_count": 5,
      "outputs": [
        {
          "output_type": "stream",
          "name": "stdout",
          "text": [
            "heLLo woRld!\n",
            "Hello world!\n"
          ]
        }
      ]
    },
    {
      "cell_type": "code",
      "source": [
        "#capitalize string using for loop\n",
        "# s=input('Enter a string:')\n",
        "s1=''\n",
        "for i in range(len(s)):\n",
        "  if i==0:\n",
        "    if ord(s[0]) in range(ord('a'),ord('z')+1):\n",
        "      s1+=chr(ord(s[0])-32)\n",
        "  else:\n",
        "    if ord(s[i]) in range(ord('A'),ord('Z')+1):\n",
        "      s1+=chr(ord(s[i])+32)\n",
        "    else:\n",
        "      s1+=s[i]\n",
        "s1"
      ],
      "metadata": {
        "colab": {
          "base_uri": "https://localhost:8080/",
          "height": 36
        },
        "id": "otW51JABrab-",
        "outputId": "23d61719-f9ad-4470-b334-7c419cbdcd58"
      },
      "execution_count": 6,
      "outputs": [
        {
          "output_type": "execute_result",
          "data": {
            "text/plain": [
              "'ay'"
            ],
            "application/vnd.google.colaboratory.intrinsic+json": {
              "type": "string"
            }
          },
          "metadata": {},
          "execution_count": 6
        }
      ]
    },
    {
      "cell_type": "code",
      "source": [],
      "metadata": {
        "id": "TTjcs6vGlH0k"
      },
      "execution_count": 6,
      "outputs": []
    },
    {
      "cell_type": "markdown",
      "source": [
        "**swap**\n",
        "\n",
        "The Python swapcase() method is used to convert all lowercase characters of the string into uppercase and all uppercase characters of the string into lowercase. Any symbol, space, special character or number in the string is ignored while applying this method. Only Alphabets are converted.\n",
        "```\n",
        "Syntax\n",
        "string.swapcase()\n",
        "```"
      ],
      "metadata": {
        "id": "IzQiADO_NE6J"
      }
    },
    {
      "cell_type": "code",
      "source": [
        "MyString = \"Hello John!\"\n",
        "print(MyString.swapcase())\n"
      ],
      "metadata": {
        "colab": {
          "base_uri": "https://localhost:8080/"
        },
        "id": "RG-G7jHoNm9A",
        "outputId": "67490c0f-8dd7-4c9e-e2ff-18a8c09ecb4d"
      },
      "execution_count": 7,
      "outputs": [
        {
          "output_type": "stream",
          "name": "stdout",
          "text": [
            "hELLO jOHN!\n"
          ]
        }
      ]
    },
    {
      "cell_type": "code",
      "source": [
        "#swapcase string using forloop\n",
        "s=input('Enter a string:')\n",
        "s1=''\n",
        "for i in s:\n",
        "  if ord(i) in range(ord('a'),ord('z')+1):\n",
        "    s1 +=chr(ord(i)-32)\n",
        "  elif ord(i) in range(ord('A'),ord('Z')+1):\n",
        "    s1 +=chr(ord(i)+32)\n",
        "  else:\n",
        "    s1+=i\n",
        "s1\n"
      ],
      "metadata": {
        "colab": {
          "base_uri": "https://localhost:8080/",
          "height": 53
        },
        "id": "zoiHHn1DsmZi",
        "outputId": "e647e138-60c0-4752-d5be-77e7818b1736"
      },
      "execution_count": 8,
      "outputs": [
        {
          "name": "stdout",
          "output_type": "stream",
          "text": [
            "Enter a string:jaya\n"
          ]
        },
        {
          "output_type": "execute_result",
          "data": {
            "text/plain": [
              "'JAYA'"
            ],
            "application/vnd.google.colaboratory.intrinsic+json": {
              "type": "string"
            }
          },
          "metadata": {},
          "execution_count": 8
        }
      ]
    },
    {
      "cell_type": "markdown",
      "source": [
        "---\n"
      ],
      "metadata": {
        "id": "TVbrOr4ouO5e"
      }
    },
    {
      "cell_type": "markdown",
      "source": [
        "- find\n",
        "- rfind\n",
        "- count\n",
        "- index\n",
        "- rindex\n",
        "- startswith\n",
        "- endswith"
      ],
      "metadata": {
        "id": "-ykn6mt0Nqxf"
      }
    },
    {
      "cell_type": "markdown",
      "source": [
        "**index**\n",
        "\n",
        "The Python index() method is used to find out the index number for first occurrence of specified character(s) in the given string. This method is very similar to find() method. Only difference is that find() method returns -1 when character(s) is not found in the string and index() method gives exception error.\n",
        "\n",
        "This method has two optional parameters also which can be used to specify starting point and end point within the string for this operation. Default values are start and end of the string.\n",
        "```\n",
        "Syntax\n",
        "string.index(value, start, end)\n",
        "```\n",
        "we can say ,we finding index given value fron  left to right"
      ],
      "metadata": {
        "id": "EICpVGM3Rgxn"
      }
    },
    {
      "cell_type": "markdown",
      "source": [
        "![image.png](data:image/png;base64,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)"
      ],
      "metadata": {
        "id": "rzVlMvFGPssZ"
      }
    },
    {
      "cell_type": "code",
      "source": [
        "MyString = \"Python is a programming language and learning Python is fun.\"\n",
        "print(MyString.index(\"Python\"))\n",
        "\n",
        "print(MyString.index(\"Python\", 40, 55))\n",
        "print(MyString.index(\"P\"))\n",
        "print(MyString.index(\"P\", 40, 55))\n",
        "# print(MyString.index(\"z\")) #uncomment to see error\n",
        "print(MyString.index(\"l\"))\n",
        "# print(MyString.index(\"l\", 40, 55)) #uncomment to see error -->l is not present in the given range\n"
      ],
      "metadata": {
        "id": "_oTUQcCLR4e6",
        "colab": {
          "base_uri": "https://localhost:8080/"
        },
        "outputId": "41abec6e-d955-4fbf-f943-2ae1cd3b5ad0"
      },
      "execution_count": 9,
      "outputs": [
        {
          "output_type": "stream",
          "name": "stdout",
          "text": [
            "0\n",
            "46\n",
            "0\n",
            "46\n",
            "24\n"
          ]
        }
      ]
    },
    {
      "cell_type": "markdown",
      "source": [
        "**rindex**\n",
        "\n",
        "The Python rindex() method is used to find out the index number for last occurrence of specified character(s) in the given string. This method is very similar to rfind() method. Only difference is that rfind() method returns -1 when character(s) is not found in the string and rindex() method gives exception error.\n",
        "\n",
        "This method has two optional parameters also which can be used to specify starting point and end point within the string for this operation. Default values are start and end of the string.\n",
        "\n",
        "we can say ,we finding index given value fron right to left"
      ],
      "metadata": {
        "id": "rTd0ByfUSQjW"
      }
    },
    {
      "cell_type": "code",
      "source": [
        "MyString = \"Python is a programming language and learning Python is fun.\"\n",
        "print(MyString.rindex(\"Python\"))\n",
        "\n",
        "print(MyString.rindex(\"Python\", 40, 55))\n",
        "print(MyString.rindex(\"ing\"))\n",
        "print(MyString.rindex(\"P\", 40, 55))\n",
        "#print(MyString.rindex(\"z\")) #uncomment to see error\n",
        "print(MyString.rindex(\"l\"))\n",
        "# print(MyString.rindex(\"l\", 40, 55)) #uncomment to see error -->l is not present in the given range\n"
      ],
      "metadata": {
        "colab": {
          "base_uri": "https://localhost:8080/"
        },
        "id": "YireW2nKTX2r",
        "outputId": "d0a3cc9a-149e-4dd3-a97d-392d958b6689"
      },
      "execution_count": 10,
      "outputs": [
        {
          "output_type": "stream",
          "name": "stdout",
          "text": [
            "46\n",
            "46\n",
            "42\n",
            "46\n",
            "37\n"
          ]
        }
      ]
    },
    {
      "cell_type": "markdown",
      "source": [
        "**find**\n",
        "\n",
        "The Python find() method is used to find out the index number for first occurrence of specified character(s) in the given string. This method is very similar to index() method. Only difference is that index() method which gives exception error when character(s) is not found in the string and find() returns -1.\n",
        "\n",
        "This method has two optional parameters also which can be used to specify starting point and end point within the string for this operation. Default values are start and end of the string.\n",
        "```\n",
        "Syntax\n",
        "string.find(value, start, end)\n",
        "```\n",
        "\n",
        "we can say ,we finding index given value fron  left to right"
      ],
      "metadata": {
        "id": "AzIbhcv7OrYZ"
      }
    },
    {
      "cell_type": "code",
      "source": [
        "MyString = \"Python is a programming language and learning Python is fun.\"\n",
        "print(MyString.find(\"Python\"))\n",
        "\n",
        "print(MyString.find(\"Python\", 40, 55))\n",
        "print(MyString.rfind(\"P\"))\n",
        "print(MyString.rfind(\"P\", 40, 55))\n",
        "print(MyString.rfind(\"z\"))\n",
        "print(MyString.rfind(\"l\"))\n",
        "print(MyString.rfind(\"l\", 40, 55))"
      ],
      "metadata": {
        "colab": {
          "base_uri": "https://localhost:8080/"
        },
        "id": "rGc2ALFjQSWt",
        "outputId": "959dd748-96b5-4a3e-f52e-ea5a06f28360"
      },
      "execution_count": 11,
      "outputs": [
        {
          "output_type": "stream",
          "name": "stdout",
          "text": [
            "0\n",
            "46\n",
            "46\n",
            "46\n",
            "-1\n",
            "37\n",
            "-1\n"
          ]
        }
      ]
    },
    {
      "cell_type": "markdown",
      "source": [
        "The Python rfind() method is used to find out the index number for last occurrence of specified character(s) in the given string. This method is very similar to rindex() method. Only difference is that rindex() method which gives exception error when character(s) is not found in the string and rfind() returns -1.\n",
        "\n",
        "This method has two optional parameters also which can be used to specify starting point and end point within the string for this operation. Default values are start and end of the string.\n",
        "```\n",
        "Syntax\n",
        "string.rfind(value, start, end)\n",
        "```\n",
        "we can say ,we finding index given value fron right to left"
      ],
      "metadata": {
        "id": "iUM_J0ZiQkWh"
      }
    },
    {
      "cell_type": "code",
      "source": [
        "MyString = \"Python is a programming language and learning Python is fun.\"\n",
        "print(MyString.rfind(\"Python\"))\n",
        "\n",
        "print(MyString.rfind(\"Python\", 40, 55))\n",
        "print(MyString.rfind(\"P\"))\n",
        "print(MyString.rfind(\"P\", 40, 55))\n",
        "print(MyString.rfind(\"z\"))\n",
        "print(MyString.rfind(\"l\"))\n",
        "print(MyString.rfind(\"l\", 40, 55))"
      ],
      "metadata": {
        "colab": {
          "base_uri": "https://localhost:8080/"
        },
        "id": "aNuCkwsdRVim",
        "outputId": "bc6bc279-ffeb-44d0-ff3e-c2fe1ccbf33a"
      },
      "execution_count": 12,
      "outputs": [
        {
          "output_type": "stream",
          "name": "stdout",
          "text": [
            "46\n",
            "46\n",
            "46\n",
            "46\n",
            "-1\n",
            "37\n",
            "-1\n"
          ]
        }
      ]
    },
    {
      "cell_type": "markdown",
      "source": [
        "**count()**\n",
        "\n",
        "The Python count() method is used to find out number of occurrence of a specified character(s) in the string. This method has two optional parameters which can be used to specify starting point and end point of the search within the string. Default values are start and end of the string.\n",
        "```\n",
        "Syntax\n",
        "string.count(value, start, end)\n",
        "```"
      ],
      "metadata": {
        "id": "QFgYb_PIVr1n"
      }
    },
    {
      "cell_type": "code",
      "source": [
        "MyString = \"This is Python Programming.\"\n",
        "print(MyString.count(\"is\"))\n",
        "print(MyString.count(\"is\", 10, 25))\n",
        "print(MyString.count(\"i\"))\n",
        "print(MyString.count(\"i\", 10, 25))"
      ],
      "metadata": {
        "colab": {
          "base_uri": "https://localhost:8080/"
        },
        "id": "nsbauMIP3R-z",
        "outputId": "1ab00b2d-3b30-460b-9feb-439352531d5a"
      },
      "execution_count": 13,
      "outputs": [
        {
          "output_type": "stream",
          "name": "stdout",
          "text": [
            "2\n",
            "0\n",
            "3\n",
            "1\n"
          ]
        }
      ]
    },
    {
      "cell_type": "markdown",
      "source": [
        "**startswith()**\n",
        "\n",
        "The Python startswith() method is used to check whether the string starts with specified value or not. It returns true when the string starts with the specified value, else returns false.\n",
        "```\n",
        "Syntax\n",
        "string.startswith(value, start, end)\n",
        "```"
      ],
      "metadata": {
        "id": "H5vNU7q249hn"
      }
    },
    {
      "cell_type": "code",
      "source": [
        "MyString = \"Hello World!\"\n",
        "print(MyString.startswith(\"Hello\"))\n",
        "print(MyString.startswith(\"Hello\", 0, 5))\n",
        "print(MyString.startswith(\"e\"))\n",
        "print(MyString.startswith(\"H\", 0, 5))\n"
      ],
      "metadata": {
        "id": "kO-muGqB5LDd",
        "colab": {
          "base_uri": "https://localhost:8080/"
        },
        "outputId": "1bbeef46-8713-4a19-d983-b18fba5bf4c4"
      },
      "execution_count": 14,
      "outputs": [
        {
          "output_type": "stream",
          "name": "stdout",
          "text": [
            "True\n",
            "True\n",
            "False\n",
            "True\n"
          ]
        }
      ]
    },
    {
      "cell_type": "markdown",
      "source": [
        "**endswith()**\n",
        "\n",
        "The Python endswith() method is used to check whether the string ends with specified value or not. It returns true when the string ends with the specified value, else returns false.\n",
        "```\n",
        "Syntax\n",
        "string.endswith(value, start, end)\n",
        "```"
      ],
      "metadata": {
        "id": "XhJ1GmwH3q0z"
      }
    },
    {
      "cell_type": "code",
      "source": [
        "MyString = \"Hello World!\"\n",
        "print(MyString.endswith(\"World!\"))\n",
        "\n",
        "print(MyString.endswith(\"World!\", 6, 12))\n",
        "print(MyString.endswith(\"!\"))\n",
        "print(MyString.endswith(\"d\", 6, 12))\n",
        "\n"
      ],
      "metadata": {
        "colab": {
          "base_uri": "https://localhost:8080/"
        },
        "id": "y_E9caR64dIr",
        "outputId": "b6b6ed3f-e492-4142-e031-a31ecc401060"
      },
      "execution_count": 15,
      "outputs": [
        {
          "output_type": "stream",
          "name": "stdout",
          "text": [
            "True\n",
            "True\n",
            "True\n",
            "False\n"
          ]
        }
      ]
    },
    {
      "cell_type": "code",
      "source": [],
      "metadata": {
        "id": "P1n4W-2i4pcm"
      },
      "execution_count": 15,
      "outputs": []
    }
  ]
}